{
  "nbformat": 4,
  "nbformat_minor": 0,
  "metadata": {
    "colab": {
      "provenance": [],
      "authorship_tag": "ABX9TyNbf6/mx2NcTW5+NT3lU2XP",
      "include_colab_link": true
    },
    "kernelspec": {
      "name": "python3",
      "display_name": "Python 3"
    },
    "language_info": {
      "name": "python"
    }
  },
  "cells": [
    {
      "cell_type": "markdown",
      "metadata": {
        "id": "view-in-github",
        "colab_type": "text"
      },
      "source": [
        "<a href=\"https://colab.research.google.com/github/Christinathattil/MACHINE-LEARNING-PROJECTS/blob/Main/2348511_lab_3__apriori.ipynb\" target=\"_parent\"><img src=\"https://colab.research.google.com/assets/colab-badge.svg\" alt=\"Open In Colab\"/></a>"
      ]
    },
    {
      "cell_type": "code",
      "execution_count": null,
      "metadata": {
        "id": "KsSW-8HyUmsb"
      },
      "outputs": [],
      "source": [
        "#Importing The Necessary Libraries\"\"\"\n",
        "\n",
        "import pandas as pd\n",
        "import matplotlib.pyplot as plt\n",
        "import seaborn as sns\n",
        "from mlxtend.frequent_patterns import apriori\n",
        "from mlxtend.frequent_patterns import association_rules\n",
        "from collections import Counter"
      ]
    },
    {
      "cell_type": "code",
      "source": [
        "#importing the dataset\n",
        "data=pd.read_csv(\"/content/Market_Basket_Optimisation.csv\")\n",
        "data"
      ],
      "metadata": {
        "id": "7dcebQ4GUwJR"
      },
      "execution_count": null,
      "outputs": []
    },
    {
      "cell_type": "code",
      "source": [
        "\"\"\"#Data Preprocessing\"\"\"\n",
        "\n",
        "#Checking for null values\n",
        "data.isnull().sum()"
      ],
      "metadata": {
        "id": "zSLTePk0UyvS"
      },
      "execution_count": null,
      "outputs": []
    },
    {
      "cell_type": "code",
      "source": [
        "#dropping the olive column as it has no values\n",
        "data=data.drop(['olive oil'],axis=1)"
      ],
      "metadata": {
        "id": "UGi1FOVuVVED"
      },
      "execution_count": null,
      "outputs": []
    },
    {
      "cell_type": "code",
      "source": [
        "#Storing the data in a list for each row excluding the Nan values\n",
        "transactions=[]\n",
        "for i in range(0,data.shape[0]):\n",
        "  transaction=[str(data.values[i,j]) for j in  range(0,data.shape[1]) if str(data.values[i,j]) !='nan' ]\n",
        "  transactions.append(transaction)\n",
        "\n",
        "transactions"
      ],
      "metadata": {
        "id": "pQIb19LiVU-j"
      },
      "execution_count": null,
      "outputs": []
    },
    {
      "cell_type": "code",
      "source": [
        "#Finding the types of items in the dataset\n",
        "unique_items=set()\n",
        "for transaction in transactions:\n",
        "    unique_items.update(item for item in transaction)"
      ],
      "metadata": {
        "id": "GohyYJu4VcYR"
      },
      "execution_count": null,
      "outputs": []
    },
    {
      "cell_type": "code",
      "source": [
        "unique_list_items=list(unique_items)\n",
        "\n",
        "unique_list_items"
      ],
      "metadata": {
        "id": "sj34bpbOVfi7"
      },
      "execution_count": null,
      "outputs": []
    },
    {
      "cell_type": "code",
      "source": [
        "#Total number of present in dataset\n",
        "len(unique_list_items)"
      ],
      "metadata": {
        "id": "SGHDnBbpVf9p"
      },
      "execution_count": null,
      "outputs": []
    },
    {
      "cell_type": "code",
      "source": [
        "#Converting the dataset into binary matrix(1-items present 0 - no item )\n",
        "binary_matrix = pd.DataFrame(columns=unique_list_items)\n",
        "\n",
        "new_data=[]\n",
        "\n",
        "for transaction in transactions:\n",
        "    row = [1 if item in transaction else 0 for item in unique_list_items]\n",
        "    new_data.append(row)\n",
        "\n",
        "\n",
        "binary_matrix = pd.concat([binary_matrix,pd.DataFrame(new_data,columns=unique_list_items)],ignore_index= True)\n",
        "print(binary_matrix)"
      ],
      "metadata": {
        "id": "jiYNjs_YVga0"
      },
      "execution_count": null,
      "outputs": []
    },
    {
      "cell_type": "code",
      "source": [
        "\"\"\"#EDA\"\"\"\n",
        "\n",
        "#Finding the total number of each item\n",
        "item_counts= binary_matrix.sum()\n",
        "sorted_products = item_counts.sort_values(ascending=False)\n",
        "\n",
        "#Bar plot- Represent the number of times each item has been bought\n",
        "plt.figure(figsize=(16,8))\n",
        "plt.bar(sorted_products.index, sorted_products.values)\n",
        "plt.title(\"Product Popularity\")\n",
        "plt.xlabel(\"Products\")\n",
        "plt.ylabel(\"Total Count\")\n",
        "plt.xticks(rotation=90)\n",
        "\n",
        "plt.show()"
      ],
      "metadata": {
        "id": "UPxCEIJSVgpG"
      },
      "execution_count": null,
      "outputs": []
    },
    {
      "cell_type": "code",
      "source": [
        "\"\"\"#Inference\"\"\"\n",
        "\n",
        "The above graph displays the frequency of each product's purchases.The graph helps us to identify the top selling products\n",
        "in the store and from the graph we can observe that Mineral water is the top selling product with over 1750+ purchases\n",
        "followed by eggs(2nd top selling product) with over 1250+ purchases.We can also observe that products such as napkins ,\n",
        "water spray and asparagus are the least bought products."
      ],
      "metadata": {
        "id": "UFNyzqi9Vg0T"
      },
      "execution_count": null,
      "outputs": []
    },
    {
      "cell_type": "code",
      "source": [
        "#Association Rule Mining\"\"\"\n",
        "\n",
        "frequent_itemset = apriori(binary_matrix,min_support=0.02,use_colnames=True)\n",
        "rules = association_rules(frequent_itemset,metric='lift',min_threshold=1)\n",
        "\n",
        "rules.head()\n"
      ],
      "metadata": {
        "id": "BW-rnnovVhBU"
      },
      "execution_count": null,
      "outputs": []
    },
    {
      "cell_type": "code",
      "source": [
        "#Pie chart\n",
        "plt.figure(figsize=(24, 12))\n",
        "plt.pie(frequent_itemset['support'], labels=frequent_itemset['itemsets'].apply(lambda x: ', '.join(list(x))), autopct='%1.1f%%', startangle=140)\n",
        "plt.title('Distribution of Common Itemsets')\n",
        "plt.axis('equal')\n",
        "plt.show()"
      ],
      "metadata": {
        "id": "pLUPreq2VhPq"
      },
      "execution_count": null,
      "outputs": []
    },
    {
      "cell_type": "code",
      "source": [
        "rules[(rules['confidence']>0.2) & (rules['lift']>1)]\n",
        "\n",
        "best_choices=rules.sort_values(by='lift',ascending=False)\n",
        "print('Best Choices would be')\n",
        "print(best_choices[['antecedents','consequents','lift']])"
      ],
      "metadata": {
        "id": "xHpR_4WkVhbl"
      },
      "execution_count": null,
      "outputs": []
    },
    {
      "cell_type": "code",
      "source": [
        "worst_choices=rules.sort_values(by='lift',ascending=True)\n",
        "print('worst Choices would be')\n",
        "print(worst_choices[['antecedents','consequents','lift']])"
      ],
      "metadata": {
        "id": "6swILj0xWICJ"
      },
      "execution_count": null,
      "outputs": []
    },
    {
      "cell_type": "code",
      "source": [
        "#heat map\n",
        "heatmap_data = rules.pivot(index='antecedents', columns='consequents', values=['support', 'confidence'])"
      ],
      "metadata": {
        "id": "_7SewbZsWLEC"
      },
      "execution_count": null,
      "outputs": []
    },
    {
      "cell_type": "code",
      "source": [
        "plt.figure(figsize=(20, 10))\n",
        "sns.heatmap(heatmap_data, annot=True, fmt='.2f', cmap='viridis', linewidths=0.5)\n",
        "plt.title('Association Rules Strength Heatmap')\n",
        "plt.show()"
      ],
      "metadata": {
        "id": "Cs6_G3r9WOHU"
      },
      "execution_count": null,
      "outputs": []
    }
  ]
}